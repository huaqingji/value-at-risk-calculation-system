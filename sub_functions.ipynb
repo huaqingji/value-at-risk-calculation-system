{
 "cells": [
  {
   "cell_type": "markdown",
   "metadata": {
    "collapsed": true
   },
   "source": [
    "## Step1   Estimate Daily Volatilities with EWMA Model"
   ]
  },
  {
   "cell_type": "code",
   "execution_count": 57,
   "metadata": {},
   "outputs": [],
   "source": [
    "# this function wrote for calculating daily volatilities\n",
    "# using EWMA (Exponentially Weighted Moving Average) model\n",
    "\n",
    "\n",
    "def ewma_vol(data, observed_days, decay_factor):\n",
    "    \"\"\"\n",
    "    data type: dataframe(dataframe contains date, price and log-return)\n",
    "    observed_days type: int(observed days)\n",
    "    decay_factor type: float(decay factor)\n",
    "    output type: dataframe(dataframe contains date, price, log-return and volatilitis)\n",
    "    \"\"\"\n",
    "    # set the first vol using root mean square of return\n",
    "    data.loc[(observed_days - 1), 'Volatility'] = np.sqrt(\n",
    "        ((data.loc[:observed_days - 1, 'Log Return'] - 0) ** 2).mean())\n",
    "    # calculate vol using EWMA recursive formula\n",
    "    for index in range(observed_days, len(data)):\n",
    "        data.loc[index, 'Volatility'] = np.sqrt(\n",
    "            (1 - decay_factor) * data.loc[index, 'Log Return'] ** 2 + decay_factor * data.loc[(index - 1), 'Volatility'] ** 2)\n",
    "    # drop the rows for null value\n",
    "    data.dropna(inplace=True)\n",
    "    data.reset_index(inplace=True, drop=True)\n",
    "\n",
    "    return data"
   ]
  },
  {
   "cell_type": "markdown",
   "metadata": {
    "collapsed": true
   },
   "source": [
    "## Step2 Calculate One-Day VaR "
   ]
  },
  {
   "cell_type": "markdown",
   "metadata": {},
   "source": [
    "### 2.1 Monte Carlo Simulation"
   ]
  },
  {
   "cell_type": "code",
   "execution_count": 58,
   "metadata": {},
   "outputs": [],
   "source": [
    "# use random draws from a hypothesized return distribution\n",
    "\n",
    "\n",
    "def mc_simulation_var(data, observed_days, decay_factor, confidence_level):\n",
    "    \"\"\"\n",
    "    data type: dataframe(dataframe contains date, price and log-return)\n",
    "    observed_days type: int(observed days)\n",
    "    decay_factor type: float(decay factor)\n",
    "    confidence_level type: float(confidence_level for VaR)\n",
    "    output type: dataframe(dataframe contains date, price, log-return and mc-simulation-var)\n",
    "    \"\"\"\n",
    "    # calculate the EWMA volatility\n",
    "    data = ewma_vol(data, observed_days, decay_factor)\n",
    "\n",
    "    # use monte carlo simulation to create the var\n",
    "    # calculate the var using the quantile of 1000 simulation\n",
    "    for index in range(len(data)):\n",
    "        random_returns = np.random.normal(\n",
    "            loc=0, scale=data.loc[index, 'Volatility'], size=1000)\n",
    "        var_return = np.percentile(\n",
    "            random_returns, (1 - confidence_level) * 100)\n",
    "        data.loc[index, 'VaR'] = data.loc[index,\n",
    "                                          'Price'] * (1 - np.exp(var_return))\n",
    "\n",
    "    return data"
   ]
  },
  {
   "cell_type": "markdown",
   "metadata": {},
   "source": [
    "### 2.2 Parametric Method"
   ]
  },
  {
   "cell_type": "code",
   "execution_count": 59,
   "metadata": {
    "collapsed": true
   },
   "outputs": [],
   "source": [
    "# based on a hypothesized return distribution plus a volatility estimate\n",
    "\n",
    "\n",
    "def parametric_var(data, observed_days, decay_factor, confidence_level):\n",
    "    \"\"\"\n",
    "    data type: dataframe(dataframe contains date, price and log-return)\n",
    "    observed_days type: int(observed days)\n",
    "    decay_factor type: float(decay factor)\n",
    "    confidence_level type: float(confidence_level for VaR)\n",
    "    output type: dataframe(dataframe contains date, price, log-return and parametric-var)\n",
    "    \"\"\"\n",
    "    # calculate the EWMA volatility\n",
    "    data = ewma_vol(data, observed_days, decay_factor)\n",
    "    # use parametric method to create the var\n",
    "    data['VaR'] = data['Price'] * (1 - np.exp(norm.ppf(\n",
    "        1 - confidence_level, loc=0, scale=data['Volatility'])))\n",
    "\n",
    "    return data"
   ]
  },
  {
   "cell_type": "markdown",
   "metadata": {},
   "source": [
    "### 2.3 Historical Method"
   ]
  },
  {
   "cell_type": "code",
   "execution_count": 60,
   "metadata": {},
   "outputs": [],
   "source": [
    "# based on historical returns over some past observation period\n",
    "# no distributional hypothesis\n",
    "\n",
    "\n",
    "def historical_var(data, observed_days, confidence_level):\n",
    "    \"\"\"\n",
    "    data type: dataframe(dataframe contains date, price and log-return)\n",
    "    observed_days type: int(observed days)\n",
    "    confidence_level type: float(confidence_level for VaR)\n",
    "    output type: dataframe(dataframe contains date, price, log-return and historical-var)\n",
    "    \"\"\"\n",
    "\n",
    "    for index in range(observed_days - 1, len(data)):\n",
    "        data.loc[index, 'VaR'] = data.loc[index, 'Price'] * (1 - np.exp(np.percentile(\n",
    "            data['Log Return'][index - observed_days + 1:index], (1 - confidence_level) * 100)))\n",
    "\n",
    "    # drop the rows for null value\n",
    "    data.dropna(inplace=True)\n",
    "    data.reset_index(inplace=True, drop=True)\n",
    "\n",
    "    return data"
   ]
  },
  {
   "cell_type": "markdown",
   "metadata": {},
   "source": [
    "## Step3 Back-Tested VaR Model with Chi-Squared Test "
   ]
  },
  {
   "cell_type": "code",
   "execution_count": 61,
   "metadata": {},
   "outputs": [],
   "source": [
    "# use the Chi-Square goodness-of-fit test to back-test the VaR model\n",
    "\n",
    "\n",
    "def backtest_var(data_var, confidence_level, confidence_level_chi2):\n",
    "    \"\"\"\n",
    "    data type: dataframe(dataframe contains date, price, log-return and VaR)\n",
    "    confidence_level type: float(confidence_interval for VaR)\n",
    "    confidence_level_chi2 type: float(confidence_interval for chi-squared test)\n",
    "    output type: dictionary(dictionary contains chi-squred test results)\n",
    "    \"\"\"\n",
    "    # calculate the number of exceed observations\n",
    "    exceed_num = len(\n",
    "        data_var[(data_var['Price'].shift(1) - data_var['Price']) > data_var['VaR']])\n",
    "    # calculate the total observations\n",
    "    total_num = len(data_var) - 1\n",
    "    # calculate the test statistics\n",
    "    test_statistics = 2 * (np.log((exceed_num / total_num)**exceed_num * (1 - exceed_num / total_num)**(\n",
    "        total_num - exceed_num)) - np.log((1 - confidence_level)**exceed_num * confidence_level**(total_num - exceed_num)))\n",
    "    # calculate the 0.95 chi-squared statistics\n",
    "    chi_squared_statistics = chi2.ppf(confidence_level_chi2, 1)\n",
    "\n",
    "    # create the dictionnary to diaplay the results\n",
    "    test_result = {}\n",
    "    test_result['VaR Confidence-level'] = confidence_level\n",
    "    test_result['Chi2 Confidence-level'] = confidence_level_chi2\n",
    "    test_result['Exceed Num'] = exceed_num\n",
    "    test_result['Total Num'] = total_num\n",
    "    test_result['Test Statistics'] = test_statistics\n",
    "    test_result['Chi-squared Statistics'] = chi_squared_statistics\n",
    "    if test_statistics < chi_squared_statistics:\n",
    "        test_result['Null Hypothesis'] = 'Accept'\n",
    "    else:\n",
    "        test_result['Null Hypothesis'] = 'Reject'\n",
    "\n",
    "    return test_result"
   ]
  }
 ],
 "metadata": {
  "kernelspec": {
   "display_name": "Python 3",
   "language": "python",
   "name": "python3"
  },
  "language_info": {
   "codemirror_mode": {
    "name": "ipython",
    "version": 3
   },
   "file_extension": ".py",
   "mimetype": "text/x-python",
   "name": "python",
   "nbconvert_exporter": "python",
   "pygments_lexer": "ipython3",
   "version": "3.6.1"
  }
 },
 "nbformat": 4,
 "nbformat_minor": 2
}
