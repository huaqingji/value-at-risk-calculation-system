{
 "cells": [
  {
   "cell_type": "markdown",
   "metadata": {
    "collapsed": true
   },
   "source": [
    " # Value-at-Risk Calculation System"
   ]
  },
  {
   "cell_type": "code",
   "execution_count": 22,
   "metadata": {},
   "outputs": [],
   "source": [
    "import pandas as pd\n",
    "import numpy as np\n",
    "from scipy.stats import norm\n",
    "from scipy.stats import chi2\n",
    "\n",
    "%run 'sub_functions.ipynb'"
   ]
  },
  {
   "cell_type": "markdown",
   "metadata": {},
   "source": [
    "## Main Function"
   ]
  },
  {
   "cell_type": "code",
   "execution_count": 23,
   "metadata": {
    "collapsed": true
   },
   "outputs": [],
   "source": [
    "# this is the main function of this project\n",
    "# use lognormal and zero-drift model\n",
    "\n",
    "\n",
    "def main_var(price_file_name, method, observed_days, decay_factor, confidence_level, confidence_level_chi2):\n",
    "    \"\"\"\n",
    "    price_file_name type: str(name of the csv file containing date and price)\n",
    "    method type: str(name of the method to calculate VaR)\n",
    "    observed_days type: int(observed days)\n",
    "    decay_factor type: float(decay factor)\n",
    "    confidence_level type: float(confidence_level for VaR)\n",
    "    confidence_level_chi2 type: float(confidence_interval for chi-squared test)\n",
    "    output type: print results\n",
    "    \"\"\"\n",
    "\n",
    "    # import the data from the csv file into a dataframe\n",
    "    data = pd.read_csv(price_file_name)\n",
    "    # calculate the log-return of the price\n",
    "    data['Log Return'] = np.log(data['Price'] / data['Price'].shift(1))\n",
    "    # drop the rows for null value\n",
    "    data.dropna(inplace=True)\n",
    "    data.reset_index(inplace=True, drop=True)\n",
    "\n",
    "    # monte carlo simulation method and back-testing\n",
    "    if method == 'Monte Carlo Simulation':\n",
    "        print('\\nMonte Carlo Simulation')\n",
    "        print('------------------------\\n')\n",
    "\n",
    "        var = mc_simulation_var(data, observed_days,\n",
    "                                decay_factor, confidence_level)\n",
    "        print('\\nDisplay First Five Daily VaR\\n')\n",
    "        print(var.head(5))\n",
    "\n",
    "        backtest_result = backtest_var(\n",
    "            var, confidence_level, confidence_level_chi2)\n",
    "        print('\\nDisplay Backtest Result\\n')\n",
    "        print(backtest_result)\n",
    "\n",
    "    # parametric method and back-testing\n",
    "    if method == 'Parametric Method':\n",
    "        print('\\nParametric Method')\n",
    "        print('------------------------\\n')\n",
    "\n",
    "        var = parametric_var(\n",
    "            data, observed_days, decay_factor, confidence_level)\n",
    "        print('\\nDisplay First Five Daily VaR\\n')\n",
    "        print(var.head(5))\n",
    "\n",
    "        backtest_result = backtest_var(\n",
    "            var, confidence_level, confidence_level_chi2)\n",
    "        print('\\nDisplay Backtest Result\\n')\n",
    "        print(backtest_result)\n",
    "\n",
    "    # historic method and back-testing\n",
    "    if method == 'Historical Method':\n",
    "        print('\\nHistorical Method')\n",
    "        print('------------------------\\n')\n",
    "\n",
    "        var = historical_var(data, observed_days, confidence_level)\n",
    "        print('\\nDisplay First Five Daily VaR\\n')\n",
    "        print(var.head(5))\n",
    "\n",
    "        backtest_result = backtest_var(\n",
    "            var, confidence_level, confidence_level_chi2)\n",
    "        print('\\nDisplay Backtest Result\\n')\n",
    "        print(backtest_result)"
   ]
  },
  {
   "cell_type": "markdown",
   "metadata": {},
   "source": [
    "## Results"
   ]
  },
  {
   "cell_type": "code",
   "execution_count": 24,
   "metadata": {},
   "outputs": [
    {
     "name": "stdout",
     "output_type": "stream",
     "text": [
      "\n",
      "Monte Carlo Simulation\n",
      "------------------------\n",
      "\n",
      "\n",
      "Display First Five Daily VaR\n",
      "\n",
      "        Date     Price  Log Return  Volatility       VaR\n",
      "0  1/30/2015  0.066769   -0.012226    0.006728  0.000730\n",
      "1   2/2/2015  0.067260    0.007331    0.006766  0.000722\n",
      "2   2/3/2015  0.068245    0.014539    0.007464  0.000789\n",
      "3   2/4/2015  0.067145   -0.016260    0.008260  0.000917\n",
      "4   2/5/2015  0.067623    0.007095    0.008195  0.000875\n",
      "\n",
      "Display Backtest Result\n",
      "\n",
      "{'VaR Confidence-level': 0.95, 'Chi2 Confidence-level': 0.95, 'Exceed Num': 32, 'Total Num': 523, 'Test Statistics': 1.2899004575223785, 'Chi-squared Statistics': 3.8414588206941236, 'Null Hypothesis': 'Accept'}\n"
     ]
    }
   ],
   "source": [
    "main_var('mxn_usd.csv', 'Monte Carlo Simulation', 22, 0.94, 0.95, 0.95)"
   ]
  },
  {
   "cell_type": "code",
   "execution_count": 25,
   "metadata": {},
   "outputs": [
    {
     "name": "stdout",
     "output_type": "stream",
     "text": [
      "\n",
      "Parametric Method\n",
      "------------------------\n",
      "\n",
      "\n",
      "Display First Five Daily VaR\n",
      "\n",
      "        Date     Price  Log Return  Volatility       VaR\n",
      "0  1/30/2015  0.066769   -0.012226    0.006728  0.000735\n",
      "1   2/2/2015  0.067260    0.007331    0.006766  0.000744\n",
      "2   2/3/2015  0.068245    0.014539    0.007464  0.000833\n",
      "3   2/4/2015  0.067145   -0.016260    0.008260  0.000906\n",
      "4   2/5/2015  0.067623    0.007095    0.008195  0.000905\n",
      "\n",
      "Display Backtest Result\n",
      "\n",
      "{'VaR Confidence-level': 0.95, 'Chi2 Confidence-level': 0.95, 'Exceed Num': 31, 'Total Num': 523, 'Test Statistics': 0.89605493229802846, 'Chi-squared Statistics': 3.8414588206941236, 'Null Hypothesis': 'Accept'}\n"
     ]
    }
   ],
   "source": [
    "main_var('mxn_usd.csv', 'Parametric Method', 22, 0.94, 0.95, 0.95)"
   ]
  },
  {
   "cell_type": "code",
   "execution_count": 26,
   "metadata": {},
   "outputs": [
    {
     "name": "stdout",
     "output_type": "stream",
     "text": [
      "\n",
      "Historical Method\n",
      "------------------------\n",
      "\n",
      "\n",
      "Display First Five Daily VaR\n",
      "\n",
      "        Date     Price  Log Return       VaR\n",
      "0  1/30/2015  0.066769   -0.012226  0.000616\n",
      "1   2/2/2015  0.067260    0.007331  0.000815\n",
      "2   2/3/2015  0.068245    0.014539  0.000827\n",
      "3   2/4/2015  0.067145   -0.016260  0.000814\n",
      "4   2/5/2015  0.067623    0.007095  0.000822\n",
      "\n",
      "Display Backtest Result\n",
      "\n",
      "{'VaR Confidence-level': 0.95, 'Chi2 Confidence-level': 0.95, 'Exceed Num': 52, 'Total Num': 523, 'Test Statistics': 21.157899646712281, 'Chi-squared Statistics': 3.8414588206941236, 'Null Hypothesis': 'Reject'}\n"
     ]
    }
   ],
   "source": [
    "main_var('mxn_usd.csv', 'Historical Method', 22, 0.94, 0.95, 0.95)"
   ]
  },
  {
   "cell_type": "code",
   "execution_count": null,
   "metadata": {
    "collapsed": true
   },
   "outputs": [],
   "source": []
  }
 ],
 "metadata": {
  "kernelspec": {
   "display_name": "Python 3",
   "language": "python",
   "name": "python3"
  },
  "language_info": {
   "codemirror_mode": {
    "name": "ipython",
    "version": 3
   },
   "file_extension": ".py",
   "mimetype": "text/x-python",
   "name": "python",
   "nbconvert_exporter": "python",
   "pygments_lexer": "ipython3",
   "version": "3.6.1"
  }
 },
 "nbformat": 4,
 "nbformat_minor": 2
}
